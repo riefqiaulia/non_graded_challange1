{
 "cells": [
  {
   "cell_type": "markdown",
   "metadata": {},
   "source": [
    "# Task 1"
   ]
  },
  {
   "cell_type": "code",
   "execution_count": 2,
   "metadata": {},
   "outputs": [
    {
     "name": "stdout",
     "output_type": "stream",
     "text": [
      "{'A005', 'A461', 'B219', 'B341', 'A083', 'B821', 'B904', 'A901', 'B439', 'B818', 'A092', 'A082'}\n",
      "12\n"
     ]
    }
   ],
   "source": [
    "customer_id = ['B818', 'A461', 'A092', 'A082', 'B341', 'A005', 'A092', 'A461'\n",
    "               ,'B219', 'B904', 'A901', 'A083', 'B904', 'A092', 'B341', 'B821'\n",
    "               ,'B341', 'B821', 'B904', 'B818', 'A901', 'A083', 'B818', 'A082'\n",
    "               ,'B219', 'B219', 'A083', 'A901', 'A082', 'B341', 'B341', 'A083'\n",
    "               ,'A082', 'B219', 'B439', 'A461', 'A005', 'A901', 'B341', 'A082'\n",
    "               ,'A083', 'A461', 'A083', 'A901', 'A461', 'A083', 'A082', 'A083'\n",
    "               ,'B341', 'A901', 'A082', 'A461', 'B219', 'A083', 'B818', 'B821'\n",
    "               ,'A092', 'B341', 'A461', 'A092', 'A083', 'B821', 'A092']\n",
    "\n",
    "uniq_key = set(customer_id)\n",
    "print(uniq_key)\n",
    "\n",
    "uniq_key = len(set(customer_id))\n",
    "print(uniq_key)\n",
    "\n",
    "jarang_key = set(customer_id)"
   ]
  },
  {
   "cell_type": "markdown",
   "metadata": {},
   "source": [
    "# Task 2"
   ]
  },
  {
   "cell_type": "code",
   "execution_count": 9,
   "metadata": {},
   "outputs": [
    {
     "name": "stdout",
     "output_type": "stream",
     "text": [
      "16\n",
      "[36, 49, 64, 81]\n",
      "[100, 81, 64, 49, 36, 25, 16, 9, 4, 1]\n"
     ]
    }
   ],
   "source": [
    "data = [1, 4, 9, 16, 25, 36, 49,  64, 81, 100]\n",
    "\n",
    "\n",
    "print(data[5:9])\n",
    "data.reverse()\n",
    "print(data)\n"
   ]
  },
  {
   "cell_type": "markdown",
   "metadata": {},
   "source": [
    "# Task 3"
   ]
  },
  {
   "cell_type": "code",
   "execution_count": 13,
   "metadata": {},
   "outputs": [
    {
     "name": "stdout",
     "output_type": "stream",
     "text": [
      "dict_keys(['Nanggroe Aceh Darussalam', 'Sumatera Selatan', 'Kalimantan Barat', 'Jawa Timur', 'Sulawesi Selatan', 'Maluku'])\n"
     ]
    },
    {
     "data": {
      "text/plain": [
       "{'Nanggroe Aceh Darussalam': 'Aceh',\n",
       " 'Sumatera Selatan': 'Palembang',\n",
       " 'Kalimantan Barat': 'Pontianak',\n",
       " 'Jawa Timur': 'Makassar',\n",
       " 'Sulawesi Selatan': 'Makassar',\n",
       " 'Maluku': 'Ambon'}"
      ]
     },
     "execution_count": 13,
     "metadata": {},
     "output_type": "execute_result"
    }
   ],
   "source": [
    "provinsi = {'Nanggroe Aceh Darussalam': 'Aceh',\n",
    "            'Sumatera Selatan': 'Palembang',\n",
    "            'Kalimantan Barat': 'Pontianak',\n",
    "            'Jawa Timur': 'Madiun',\n",
    "            'Sulawesi Selatan': 'Makassar',\n",
    "            'Maluku': 'Ambon'}\n",
    "\n",
    "print(provinsi.keys())\n",
    "\n",
    "provinsi['Jawa Timur'] = \"Makassar\"\n",
    "provinsi"
   ]
  }
 ],
 "metadata": {
  "kernelspec": {
   "display_name": "base",
   "language": "python",
   "name": "python3"
  },
  "language_info": {
   "codemirror_mode": {
    "name": "ipython",
    "version": 3
   },
   "file_extension": ".py",
   "mimetype": "text/x-python",
   "name": "python",
   "nbconvert_exporter": "python",
   "pygments_lexer": "ipython3",
   "version": "3.11.4"
  },
  "orig_nbformat": 4
 },
 "nbformat": 4,
 "nbformat_minor": 2
}
